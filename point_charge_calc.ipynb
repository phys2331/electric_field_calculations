{
 "cells": [
  {
   "cell_type": "code",
   "execution_count": 1,
   "metadata": {
    "collapsed": true
   },
   "outputs": [],
   "source": [
    "import numpy as np"
   ]
  },
  {
   "cell_type": "code",
   "execution_count": 33,
   "metadata": {
    "collapsed": false
   },
   "outputs": [],
   "source": [
    "# constants of our universe\n",
    "k = 9*10^9\n",
    "\n",
    "# set up the system\n",
    "num_charges = 1\n",
    "charge_coord_m = [np.array([3, 2, 5])]\n",
    "charge_C = 2*10^(-9)"
   ]
  },
  {
   "cell_type": "code",
   "execution_count": 34,
   "metadata": {
    "collapsed": false
   },
   "outputs": [],
   "source": [
    "# Label the points in space we're interested in\n",
    "location_dict = dict()\n",
    "center = charge_coord_m[0]\n",
    "\n",
    "label = 1\n",
    "radius = 0.06\n",
    "num_points = 10\n",
    "for idx in list(range(1,num_points+1)):\n",
    "    angle = idx*2*np.pi/num_points\n",
    "    location = center + np.array([radius*np.cos(angle), radius*np.sin(angle), 0.05])\n",
    "    #print (location)\n",
    "    location_dict[label+idx-1] = location\n",
    "    \n",
    "label = 10\n",
    "radius = 0.12\n",
    "num_points = 15\n",
    "for idx in list(range(1,num_points+1)):\n",
    "    angle = idx*2*np.pi/num_points\n",
    "    location = center + np.array([radius*np.cos(angle), radius*np.sin(angle), 0.05])\n",
    "    #print (location)\n",
    "    location_dict[label+idx-1] = location\n",
    "    \n",
    "label = 25\n",
    "radius = 0.06\n",
    "num_points = 10\n",
    "for idx in list(range(1,num_points+1)):\n",
    "    angle = idx*2*np.pi/num_points\n",
    "    location = center + np.array([radius*np.cos(angle), radius*np.sin(angle), -0.05])\n",
    "    #print (location)\n",
    "    location_dict[label+idx-1] = location\n",
    "    \n",
    "label = 35\n",
    "radius = 0.12\n",
    "num_points = 15\n",
    "for idx in list(range(1,num_points+1)):\n",
    "    angle = idx*2*np.pi/num_points\n",
    "    # z was supposed to be -0.05 but mistakes were made\n",
    "    location = center + np.array([radius*np.cos(angle), radius*np.sin(angle), 0.05])\n",
    "    #print (location)\n",
    "    location_dict[label+idx-1] = location\n",
    "    \n",
    "#print (location_dict)"
   ]
  },
  {
   "cell_type": "code",
   "execution_count": 35,
   "metadata": {
    "collapsed": false
   },
   "outputs": [
    {
     "name": "stdout",
     "output_type": "stream",
     "text": [
      "point: 1\n",
      "r: array([ 0.03708204,  0.11412678,  0.05      ])0.12999999999999989\n",
      "r hat: array([ 0.28524646,  0.87789832,  0.38461538])\n",
      "dE: array([ -40626.52191864, -125035.5776817 ,  -54779.24442421])\n",
      "loc: array([ 3.03708204,  2.11412678,  5.05      ])\n"
     ]
    }
   ],
   "source": [
    "# choose the location you're interested in\n",
    "#location_m = np.array([-0.09, 0, -0.0173])\n",
    "location_m = location_dict[12]\n",
    "\n",
    "# calculate electric field due to each charge\n",
    "for idx in list(range(0,num_charges)):\n",
    "    source = charge_coord_m[idx]\n",
    "    r = location_m - source\n",
    "    print(\"point: \" + repr(idx+1))\n",
    "    print(\"r: \" + repr(r) + repr(np.linalg.norm(r)))\n",
    "    print(\"r hat: \" + repr(r/np.linalg.norm(r)))\n",
    "    print(\"dE: \" + repr(k*charge_C*r/(np.linalg.norm(r)**3)))\n",
    "    print(\"loc: \" + repr(location_m))\n"
   ]
  },
  {
   "cell_type": "code",
   "execution_count": null,
   "metadata": {
    "collapsed": true
   },
   "outputs": [],
   "source": []
  }
 ],
 "metadata": {
  "anaconda-cloud": {},
  "kernelspec": {
   "display_name": "Python [conda root]",
   "language": "python",
   "name": "conda-root-py"
  },
  "language_info": {
   "codemirror_mode": {
    "name": "ipython",
    "version": 3
   },
   "file_extension": ".py",
   "mimetype": "text/x-python",
   "name": "python",
   "nbconvert_exporter": "python",
   "pygments_lexer": "ipython3",
   "version": "3.5.2"
  }
 },
 "nbformat": 4,
 "nbformat_minor": 2
}
