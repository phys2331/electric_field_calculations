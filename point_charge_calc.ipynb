{
 "cells": [
  {
   "cell_type": "code",
   "execution_count": 1,
   "metadata": {
    "collapsed": true
   },
   "outputs": [],
   "source": [
    "import numpy as np"
   ]
  },
  {
   "cell_type": "code",
   "execution_count": 30,
   "metadata": {
    "collapsed": false
   },
   "outputs": [],
   "source": [
    "# constants of our universe\n",
    "k = 9*10^9\n",
    "\n",
    "# set up the system\n",
    "num_points = 1\n",
    "charge_coord_m = [np.array([3, 2, 5])]\n",
    "charge_C = 2*10^(-9)\n",
    "k = 9*10^9"
   ]
  },
  {
   "cell_type": "code",
   "execution_count": 31,
   "metadata": {
    "collapsed": false
   },
   "outputs": [],
   "source": [
    "# Label the points in space we're interested in\n",
    "location_dict = dict()\n",
    "center = charge_coord_m[0]\n",
    "\n",
    "label = 1\n",
    "radius = 0.06\n",
    "num_points = 10\n",
    "for idx in list(range(1,num_points+1)):\n",
    "    angle = idx*2*np.pi/num_points\n",
    "    location = center + np.array([radius*np.cos(angle), radius*np.sin(angle), 0.05])\n",
    "    #print (location)\n",
    "    location_dict[label+idx-1] = location\n",
    "    \n",
    "label = 10\n",
    "radius = 0.12\n",
    "num_points = 15\n",
    "for idx in list(range(1,num_points+1)):\n",
    "    angle = idx*2*np.pi/num_points\n",
    "    location = center + np.array([radius*np.cos(angle), radius*np.sin(angle), 0.05])\n",
    "    #print (location)\n",
    "    location_dict[label+idx-1] = location\n",
    "    \n",
    "label = 25\n",
    "radius = 0.06\n",
    "num_points = 10\n",
    "for idx in list(range(1,num_points+1)):\n",
    "    angle = idx*2*np.pi/num_points\n",
    "    location = center + np.array([radius*np.cos(angle), radius*np.sin(angle), -0.05])\n",
    "    #print (location)\n",
    "    location_dict[label+idx-1] = location\n",
    "    \n",
    "label = 35\n",
    "radius = 0.12\n",
    "num_points = 15\n",
    "for idx in list(range(1,num_points+1)):\n",
    "    angle = idx*2*np.pi/num_points\n",
    "    # z was supposed to be -0.05 but mistakes were made\n",
    "    location = center + np.array([radius*np.cos(angle), radius*np.sin(angle), 0.05])\n",
    "    #print (location)\n",
    "    location_dict[label+idx-1] = location\n",
    "    \n",
    "#print (location_dict)"
   ]
  },
  {
   "cell_type": "code",
   "execution_count": 29,
   "metadata": {
    "collapsed": false
   },
   "outputs": [
    {
     "name": "stdout",
     "output_type": "stream",
     "text": [
      "point: 1\n",
      "r: array([ 0.04854102,  0.03526712,  0.05      ])0.0781024967590664\n",
      "r hat: array([ 0.62150407,  0.45154914,  0.6401844 ])\n",
      "dE: array([-245239.39311768, -178176.84864222, -252610.46721187])\n",
      "loc: array([ 3.04854102,  2.03526712,  5.05      ])\n"
     ]
    }
   ],
   "source": [
    "# choose the location you're interested in\n",
    "#location_m = np.array([-0.09, 0, -0.0173])\n",
    "location_m = location_dict[1]\n",
    "\n",
    "# calculate electric field due to each charge\n",
    "for idx in list(range(0,num_points)):\n",
    "    source = charge_coord_m[idx]\n",
    "    r = location_m - source\n",
    "    print(\"point: \" + repr(idx+1))\n",
    "    print(\"r: \" + repr(r) + repr(np.linalg.norm(r)))\n",
    "    print(\"r hat: \" + repr(r/np.linalg.norm(r)))\n",
    "    print(\"dE: \" + repr(k*charge_C*r/(np.linalg.norm(r)**3)))\n",
    "    print(\"loc: \" + repr(location_m))\n"
   ]
  },
  {
   "cell_type": "code",
   "execution_count": null,
   "metadata": {
    "collapsed": true
   },
   "outputs": [],
   "source": []
  }
 ],
 "metadata": {
  "anaconda-cloud": {},
  "kernelspec": {
   "display_name": "Python [conda root]",
   "language": "python",
   "name": "conda-root-py"
  },
  "language_info": {
   "codemirror_mode": {
    "name": "ipython",
    "version": 3
   },
   "file_extension": ".py",
   "mimetype": "text/x-python",
   "name": "python",
   "nbconvert_exporter": "python",
   "pygments_lexer": "ipython3",
   "version": "3.5.2"
  }
 },
 "nbformat": 4,
 "nbformat_minor": 2
}
